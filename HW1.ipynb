{
  "nbformat": 4,
  "nbformat_minor": 0,
  "metadata": {
    "colab": {
      "provenance": [],
      "authorship_tag": "ABX9TyMzv30TgoAVYRmFm/Q5eGS6",
      "include_colab_link": true
    },
    "kernelspec": {
      "name": "python3",
      "display_name": "Python 3"
    },
    "language_info": {
      "name": "python"
    }
  },
  "cells": [
    {
      "cell_type": "markdown",
      "metadata": {
        "id": "view-in-github",
        "colab_type": "text"
      },
      "source": [
        "<a href=\"https://colab.research.google.com/github/brihow03/DataVisMagicKingdomFinalProject/blob/main/HW1.ipynb\" target=\"_parent\"><img src=\"https://colab.research.google.com/assets/colab-badge.svg\" alt=\"Open In Colab\"/></a>"
      ]
    },
    {
      "cell_type": "markdown",
      "source": [
        "# Question 3"
      ],
      "metadata": {
        "id": "d6rl_q2pYINX"
      }
    },
    {
      "cell_type": "markdown",
      "source": [
        "Write a Python program to find links to PDFs in a webpage.\n",
        "\n",
        "Your program must do the following:\n",
        "\n",
        "take the URI of a webpage as a command-line argument\n",
        "extract all the links from the page\n",
        "for each link, request the URI and use the Content-Type HTTP response header to determine if the link references a PDF file\n",
        "for all links that reference a PDF file, print the original URI (found in the parent HTML page), the final URI (after any redirects), and the number of bytes in the PDF file. (Hint: Content-Length HTTP response header)"
      ],
      "metadata": {
        "id": "EoDBmTkIGSgm"
      }
    },
    {
      "cell_type": "code",
      "source": [
        "import re\n",
        "from bs4 import BeautifulSoup\n",
        "import requests"
      ],
      "metadata": {
        "id": "4QJ88cMZGWze"
      },
      "execution_count": 82,
      "outputs": []
    },
    {
      "cell_type": "markdown",
      "source": [
        "# take the URI of a webpage as a command-line argument\n",
        "# extract all the links from the page"
      ],
      "metadata": {
        "id": "UnKAefuapiRv"
      }
    },
    {
      "cell_type": "code",
      "source": [
        "# take the URI of a webpage as a command-line argument\n",
        "# extract all the links from the page\n",
        "\n",
        "url1 = 'https://alexandernwala.com/files/teaching/fall-2022/week-2/2018_wsdl_publications.html'\n",
        "url2 = 'https://yhe15.people.wm.edu/publication.html'\n",
        "url3 = 'https://nlp.stanford.edu/IR-book/'\n",
        "\n",
        "response = requests.get(input())\n",
        "#print(response.text)\n",
        "\n",
        "soup = BeautifulSoup(response.text) #what does this do???\n",
        "#print(soup)\n",
        "linksList = []\n",
        "\n",
        "for links in soup.find_all('a'):   # find all <a> tags\n",
        "  if links.get('href') is not None and links.get('href').startswith('http'):\n",
        "    linksList.append(links.get('href'))\n",
        "\n",
        "print(linksList)"
      ],
      "metadata": {
        "id": "DeQL4cL8n0V8"
      },
      "execution_count": null,
      "outputs": []
    },
    {
      "cell_type": "code",
      "source": [],
      "metadata": {
        "id": "TFI4WVb4g9WF"
      },
      "execution_count": 83,
      "outputs": []
    },
    {
      "cell_type": "markdown",
      "source": [
        "#for each link, request the URI and use the Content-Type HTTP response header to determine if the link references a PDF file\n"
      ],
      "metadata": {
        "id": "e2Jw6U3JqPUK"
      }
    },
    {
      "cell_type": "code",
      "source": [
        "pdfs = []\n",
        "\n",
        "for link in linksList:\n",
        "  response = requests.get(link)\n",
        "  contentType = response.headers['Content-Type']\n",
        "  #print(contentType)\n",
        "  if contentType == \"application/pdf\":\n",
        "    pdfs.append(link)\n",
        "\n",
        "print(pdfs)"
      ],
      "metadata": {
        "colab": {
          "base_uri": "https://localhost:8080/"
        },
        "id": "PmH6DKnNfWVJ",
        "outputId": "b3c503d3-526d-4330-bd2d-76f8347a774e"
      },
      "execution_count": 84,
      "outputs": [
        {
          "output_type": "stream",
          "name": "stdout",
          "text": [
            "['http://nlp.stanford.edu/IR-book/pdf/irbookonlinereading.pdf', 'http://nlp.stanford.edu/IR-book/pdf/irbookprint.pdf', 'http://nlp.stanford.edu/IR-book/pdf/00front.pdf', 'http://nlp.stanford.edu/IR-book/pdf/01bool.pdf', 'http://nlp.stanford.edu/IR-book/pdf/02voc.pdf', 'http://nlp.stanford.edu/IR-book/pdf/03dict.pdf', 'http://nlp.stanford.edu/IR-book/pdf/04const.pdf', 'http://nlp.stanford.edu/IR-book/pdf/05comp.pdf', 'http://nlp.stanford.edu/IR-book/pdf/06vect.pdf', 'http://nlp.stanford.edu/IR-book/pdf/07system.pdf', 'http://nlp.stanford.edu/IR-book/pdf/08eval.pdf', 'http://nlp.stanford.edu/IR-book/pdf/09expand.pdf', 'http://nlp.stanford.edu/IR-book/pdf/10xml.pdf', 'http://nlp.stanford.edu/IR-book/pdf/11prob.pdf', 'http://nlp.stanford.edu/IR-book/pdf/12lmodel.pdf', 'http://nlp.stanford.edu/IR-book/pdf/13bayes.pdf', 'http://nlp.stanford.edu/IR-book/pdf/14vcat.pdf', 'http://nlp.stanford.edu/IR-book/pdf/15svm.pdf', 'http://nlp.stanford.edu/IR-book/pdf/16flat.pdf', 'http://nlp.stanford.edu/IR-book/pdf/17hier.pdf', 'http://nlp.stanford.edu/IR-book/pdf/18lsi.pdf', 'http://nlp.stanford.edu/IR-book/pdf/19web.pdf', 'http://nlp.stanford.edu/IR-book/pdf/20crawl.pdf', 'http://nlp.stanford.edu/IR-book/pdf/21link.pdf', 'http://nlp.stanford.edu/IR-book/pdf/99back.pdf']\n"
          ]
        }
      ]
    },
    {
      "cell_type": "code",
      "source": [
        "# for all links that reference a PDF file, print the original URI (found in the parent HTML page),\n",
        "# the final URI (after any redirects), and the number of bytes in the PDF file. (Hint: Content-Length HTTP response header)\n",
        "\n",
        "for pdf in pdfs:\n",
        "  response = requests.get(pdf)\n",
        "  print('Original URI:', pdf)\n",
        "  contentLength = response.headers['Content-Length']\n",
        "  print('Content Length:', contentLength, 'bytes')\n",
        "  print('Final URI:', response.url)"
      ],
      "metadata": {
        "id": "bFBTynXXvbDc",
        "colab": {
          "base_uri": "https://localhost:8080/"
        },
        "outputId": "a61859e5-d726-4e16-a94c-b85291a0b097"
      },
      "execution_count": 88,
      "outputs": [
        {
          "output_type": "stream",
          "name": "stdout",
          "text": [
            "Original URI: http://nlp.stanford.edu/IR-book/pdf/irbookonlinereading.pdf\n",
            "Content Length: 6903344 bytes\n",
            "Final URI: https://nlp.stanford.edu/IR-book/pdf/irbookonlinereading.pdf\n",
            "Original URI: http://nlp.stanford.edu/IR-book/pdf/irbookprint.pdf\n",
            "Content Length: 6753590 bytes\n",
            "Final URI: https://nlp.stanford.edu/IR-book/pdf/irbookprint.pdf\n",
            "Original URI: http://nlp.stanford.edu/IR-book/pdf/00front.pdf\n",
            "Content Length: 302291 bytes\n",
            "Final URI: https://nlp.stanford.edu/IR-book/pdf/00front.pdf\n",
            "Original URI: http://nlp.stanford.edu/IR-book/pdf/01bool.pdf\n",
            "Content Length: 182462 bytes\n",
            "Final URI: https://nlp.stanford.edu/IR-book/pdf/01bool.pdf\n",
            "Original URI: http://nlp.stanford.edu/IR-book/pdf/02voc.pdf\n",
            "Content Length: 375170 bytes\n",
            "Final URI: https://nlp.stanford.edu/IR-book/pdf/02voc.pdf\n",
            "Original URI: http://nlp.stanford.edu/IR-book/pdf/03dict.pdf\n",
            "Content Length: 222735 bytes\n",
            "Final URI: https://nlp.stanford.edu/IR-book/pdf/03dict.pdf\n",
            "Original URI: http://nlp.stanford.edu/IR-book/pdf/04const.pdf\n",
            "Content Length: 262752 bytes\n",
            "Final URI: https://nlp.stanford.edu/IR-book/pdf/04const.pdf\n",
            "Original URI: http://nlp.stanford.edu/IR-book/pdf/05comp.pdf\n",
            "Content Length: 276622 bytes\n",
            "Final URI: https://nlp.stanford.edu/IR-book/pdf/05comp.pdf\n",
            "Original URI: http://nlp.stanford.edu/IR-book/pdf/06vect.pdf\n",
            "Content Length: 305856 bytes\n",
            "Final URI: https://nlp.stanford.edu/IR-book/pdf/06vect.pdf\n",
            "Original URI: http://nlp.stanford.edu/IR-book/pdf/07system.pdf\n",
            "Content Length: 225657 bytes\n",
            "Final URI: https://nlp.stanford.edu/IR-book/pdf/07system.pdf\n",
            "Original URI: http://nlp.stanford.edu/IR-book/pdf/08eval.pdf\n",
            "Content Length: 277448 bytes\n",
            "Final URI: https://nlp.stanford.edu/IR-book/pdf/08eval.pdf\n",
            "Original URI: http://nlp.stanford.edu/IR-book/pdf/09expand.pdf\n",
            "Content Length: 376169 bytes\n",
            "Final URI: https://nlp.stanford.edu/IR-book/pdf/09expand.pdf\n",
            "Original URI: http://nlp.stanford.edu/IR-book/pdf/10xml.pdf\n",
            "Content Length: 397139 bytes\n",
            "Final URI: https://nlp.stanford.edu/IR-book/pdf/10xml.pdf\n",
            "Original URI: http://nlp.stanford.edu/IR-book/pdf/11prob.pdf\n",
            "Content Length: 185781 bytes\n",
            "Final URI: https://nlp.stanford.edu/IR-book/pdf/11prob.pdf\n",
            "Original URI: http://nlp.stanford.edu/IR-book/pdf/12lmodel.pdf\n",
            "Content Length: 182584 bytes\n",
            "Final URI: https://nlp.stanford.edu/IR-book/pdf/12lmodel.pdf\n",
            "Original URI: http://nlp.stanford.edu/IR-book/pdf/13bayes.pdf\n",
            "Content Length: 345130 bytes\n",
            "Final URI: https://nlp.stanford.edu/IR-book/pdf/13bayes.pdf\n",
            "Original URI: http://nlp.stanford.edu/IR-book/pdf/14vcat.pdf\n",
            "Content Length: 401511 bytes\n",
            "Final URI: https://nlp.stanford.edu/IR-book/pdf/14vcat.pdf\n",
            "Original URI: http://nlp.stanford.edu/IR-book/pdf/15svm.pdf\n",
            "Content Length: 335833 bytes\n",
            "Final URI: https://nlp.stanford.edu/IR-book/pdf/15svm.pdf\n",
            "Original URI: http://nlp.stanford.edu/IR-book/pdf/16flat.pdf\n",
            "Content Length: 390645 bytes\n",
            "Final URI: https://nlp.stanford.edu/IR-book/pdf/16flat.pdf\n",
            "Original URI: http://nlp.stanford.edu/IR-book/pdf/17hier.pdf\n",
            "Content Length: 257210 bytes\n",
            "Final URI: https://nlp.stanford.edu/IR-book/pdf/17hier.pdf\n",
            "Original URI: http://nlp.stanford.edu/IR-book/pdf/18lsi.pdf\n",
            "Content Length: 178906 bytes\n",
            "Final URI: https://nlp.stanford.edu/IR-book/pdf/18lsi.pdf\n",
            "Original URI: http://nlp.stanford.edu/IR-book/pdf/19web.pdf\n",
            "Content Length: 617304 bytes\n",
            "Final URI: https://nlp.stanford.edu/IR-book/pdf/19web.pdf\n",
            "Original URI: http://nlp.stanford.edu/IR-book/pdf/20crawl.pdf\n",
            "Content Length: 164736 bytes\n",
            "Final URI: https://nlp.stanford.edu/IR-book/pdf/20crawl.pdf\n",
            "Original URI: http://nlp.stanford.edu/IR-book/pdf/21link.pdf\n",
            "Content Length: 266682 bytes\n",
            "Final URI: https://nlp.stanford.edu/IR-book/pdf/21link.pdf\n",
            "Original URI: http://nlp.stanford.edu/IR-book/pdf/99back.pdf\n",
            "Content Length: 1458163 bytes\n",
            "Final URI: https://nlp.stanford.edu/IR-book/pdf/99back.pdf\n"
          ]
        }
      ]
    },
    {
      "cell_type": "code",
      "source": [],
      "metadata": {
        "id": "9N6Cn_oEkiRZ"
      },
      "execution_count": 85,
      "outputs": []
    }
  ]
}